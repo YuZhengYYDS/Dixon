{
 "cells": [
  {
   "cell_type": "markdown",
   "metadata": {},
   "source": [
    "Import libraries"
   ]
  },
  {
   "cell_type": "code",
   "execution_count": 1,
   "metadata": {},
   "outputs": [],
   "source": [
    "import numpy as np\n",
    "import matplotlib.pyplot as plt"
   ]
  },
  {
   "cell_type": "markdown",
   "metadata": {},
   "source": [
    "# Core Tasks"
   ]
  },
  {
   "cell_type": "markdown",
   "metadata": {},
   "source": [
    "## Task 1. Simulate and visualise the signal evolution over time"
   ]
  },
  {
   "cell_type": "markdown",
   "metadata": {},
   "source": [
    "Define models in functions"
   ]
  },
  {
   "cell_type": "code",
   "execution_count": 2,
   "metadata": {},
   "outputs": [],
   "source": [
    "def simulate_single_fat_peak(t, rho_W, rho_F, f_F, R2_star=None):\n",
    "    \"\"\"\n",
    "    Simulate the signal for a single fat peak model.\n",
    "    \n",
    "    Parameters:\n",
    "        t (np.array): Time vector in seconds.\n",
    "        rho_W (float): Water amplitude.\n",
    "        rho_F (float): Fat amplitude.\n",
    "        f_F (float): Fat frequency in Hz.\n",
    "        R2_star (float, optional): R2* decay constant (s^-1). If None, no decay is applied.\n",
    "    \n",
    "    Returns:\n",
    "        np.array: Complex-valued signal.\n",
    "    \"\"\"\n",
    "    # Basic signal without decay\n",
    "    S = rho_W + rho_F * np.exp(1j * 2 * np.pi * f_F * t)\n",
    "    # Apply R2* decay if provided\n",
    "    if R2_star is not None:\n",
    "        S *= np.exp(-t * R2_star)\n",
    "    return S\n",
    "\n",
    "def simulate_multi_peak(t, rho_W, rho_F, r, f_F_m, R2_star=None):\n",
    "    \"\"\"\n",
    "    Simulate the signal for a multiple fat peaks model.\n",
    "    \n",
    "    Parameters:\n",
    "        t (np.array): Time vector in seconds.\n",
    "        rho_W (float): Water amplitude.\n",
    "        rho_F (float): Fat amplitude.\n",
    "        r (np.array): Relative amplitudes of each fat spectral component.\n",
    "        f_F_m (np.array): Frequencies for each fat component in Hz.\n",
    "        R2_star (float, optional): R2* decay constant (s^-1). If None, no decay is applied.\n",
    "    \n",
    "    Returns:\n",
    "        np.array: Complex-valued signal.\n",
    "    \"\"\"\n",
    "    fat_signal = np.zeros_like(t, dtype=complex)\n",
    "    for m in range(len(r)):\n",
    "        fat_signal += r[m] * np.exp(1j * 2 * np.pi * f_F_m[m] * t)\n",
    "    S = rho_W + rho_F * fat_signal\n",
    "    if R2_star is not None:\n",
    "        S *= np.exp(-t * R2_star)\n",
    "    return S"
   ]
  },
  {
   "cell_type": "markdown",
   "metadata": {},
   "source": [
    "Define Simulation Parameters"
   ]
  },
  {
   "cell_type": "code",
   "execution_count": null,
   "metadata": {},
   "outputs": [],
   "source": [
    "# Time vector: echoes acquired every 0.01 ms from 0 to 10 ms\n",
    "t = np.linspace(0, 0.01, 1000)  # in seconds\n",
    "\n",
    "# Signal amplitudes (assuming a PDFF of 30%)\n",
    "rho_W = 0.7\n",
    "rho_F = 0.3\n",
    "\n",
    "# For single fat peak model\n",
    "f_F = -0.45e3  # -450 Hz\n",
    "\n",
    "# For multiple fat peaks model (6-peak model)\n",
    "r = np.array([0.087, 0.694, 0.128, 0.004, 0.039, 0.048])\n",
    "f_F_m = np.array([-0.498, -0.447, -0.345, -0.261, -0.063, 0.064]) * 1e3  # Convert kHz to Hz\n",
    "\n",
    "# R2* decay parameter (for demonstration)\n",
    "R2_star = 50  # s^-1"
   ]
  }
 ],
 "metadata": {
  "kernelspec": {
   "display_name": "dl_cw2",
   "language": "python",
   "name": "python3"
  },
  "language_info": {
   "codemirror_mode": {
    "name": "ipython",
    "version": 3
   },
   "file_extension": ".py",
   "mimetype": "text/x-python",
   "name": "python",
   "nbconvert_exporter": "python",
   "pygments_lexer": "ipython3",
   "version": "3.12.6"
  }
 },
 "nbformat": 4,
 "nbformat_minor": 2
}
